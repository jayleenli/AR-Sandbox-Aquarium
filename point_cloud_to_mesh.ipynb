{
 "cells": [
  {
   "cell_type": "code",
   "execution_count": 1,
   "metadata": {},
   "outputs": [
    {
     "name": "stdout",
     "output_type": "stream",
     "text": [
      "Requirement already satisfied: numpy in c:\\users\\jayle\\anaconda3\\lib\\site-packages (1.15.4)\n",
      "Collecting open3d\n",
      "  Downloading https://files.pythonhosted.org/packages/14/72/85a3c9bfda75634eebf3fbcfa9d620d54a214e61c0db2aba36326f74cc5b/open3d-0.12.0-cp37-cp37m-win_amd64.whl (38.0MB)\n",
      "Requirement already satisfied: matplotlib in c:\\users\\jayle\\anaconda3\\lib\\site-packages (from open3d) (3.0.2)\n",
      "Requirement already satisfied: numpy in c:\\users\\jayle\\anaconda3\\lib\\site-packages (from open3d) (1.15.4)\n",
      "Requirement already satisfied: widgetsnbextension in c:\\users\\jayle\\anaconda3\\lib\\site-packages (from open3d) (3.4.2)\n",
      "Requirement already satisfied: notebook in c:\\users\\jayle\\anaconda3\\lib\\site-packages (from open3d) (5.7.4)\n",
      "Requirement already satisfied: ipywidgets in c:\\users\\jayle\\anaconda3\\lib\\site-packages (from open3d) (7.4.2)\n",
      "Requirement already satisfied: cycler>=0.10 in c:\\users\\jayle\\anaconda3\\lib\\site-packages (from matplotlib->open3d) (0.10.0)\n",
      "Requirement already satisfied: kiwisolver>=1.0.1 in c:\\users\\jayle\\anaconda3\\lib\\site-packages (from matplotlib->open3d) (1.0.1)\n",
      "Requirement already satisfied: pyparsing!=2.0.4,!=2.1.2,!=2.1.6,>=2.0.1 in c:\\users\\jayle\\anaconda3\\lib\\site-packages (from matplotlib->open3d) (2.3.0)\n",
      "Requirement already satisfied: python-dateutil>=2.1 in c:\\users\\jayle\\anaconda3\\lib\\site-packages (from matplotlib->open3d) (2.7.5)\n",
      "Requirement already satisfied: jupyter-client>=5.2.0 in c:\\users\\jayle\\anaconda3\\lib\\site-packages (from notebook->open3d) (5.2.4)\n",
      "Requirement already satisfied: nbformat in c:\\users\\jayle\\anaconda3\\lib\\site-packages (from notebook->open3d) (4.4.0)\n",
      "Requirement already satisfied: nbconvert in c:\\users\\jayle\\anaconda3\\lib\\site-packages (from notebook->open3d) (5.4.0)\n",
      "Requirement already satisfied: jupyter-core>=4.4.0 in c:\\users\\jayle\\anaconda3\\lib\\site-packages (from notebook->open3d) (4.4.0)\n",
      "Requirement already satisfied: prometheus-client in c:\\users\\jayle\\anaconda3\\lib\\site-packages (from notebook->open3d) (0.5.0)\n",
      "Requirement already satisfied: ipykernel in c:\\users\\jayle\\anaconda3\\lib\\site-packages (from notebook->open3d) (5.1.0)\n",
      "Requirement already satisfied: terminado>=0.8.1 in c:\\users\\jayle\\anaconda3\\lib\\site-packages (from notebook->open3d) (0.8.1)\n",
      "Requirement already satisfied: pyzmq>=17 in c:\\users\\jayle\\anaconda3\\lib\\site-packages (from notebook->open3d) (17.1.2)\n",
      "Requirement already satisfied: jinja2 in c:\\users\\jayle\\anaconda3\\lib\\site-packages (from notebook->open3d) (2.10)\n",
      "Requirement already satisfied: traitlets>=4.2.1 in c:\\users\\jayle\\anaconda3\\lib\\site-packages (from notebook->open3d) (4.3.2)\n",
      "Requirement already satisfied: tornado>=4 in c:\\users\\jayle\\anaconda3\\lib\\site-packages (from notebook->open3d) (5.1.1)\n",
      "Requirement already satisfied: Send2Trash in c:\\users\\jayle\\anaconda3\\lib\\site-packages (from notebook->open3d) (1.5.0)\n",
      "Requirement already satisfied: ipython-genutils in c:\\users\\jayle\\anaconda3\\lib\\site-packages (from notebook->open3d) (0.2.0)\n",
      "Requirement already satisfied: ipython>=4.0.0; python_version >= \"3.3\" in c:\\users\\jayle\\anaconda3\\lib\\site-packages (from ipywidgets->open3d) (7.2.0)\n",
      "Requirement already satisfied: six in c:\\users\\jayle\\anaconda3\\lib\\site-packages (from cycler>=0.10->matplotlib->open3d) (1.12.0)\n",
      "Requirement already satisfied: setuptools in c:\\users\\jayle\\anaconda3\\lib\\site-packages (from kiwisolver>=1.0.1->matplotlib->open3d) (40.6.3)\n",
      "Requirement already satisfied: jsonschema!=2.5.0,>=2.4 in c:\\users\\jayle\\anaconda3\\lib\\site-packages (from nbformat->notebook->open3d) (2.6.0)\n",
      "Requirement already satisfied: mistune>=0.8.1 in c:\\users\\jayle\\anaconda3\\lib\\site-packages (from nbconvert->notebook->open3d) (0.8.4)\n",
      "Requirement already satisfied: pygments in c:\\users\\jayle\\anaconda3\\lib\\site-packages (from nbconvert->notebook->open3d) (2.3.1)\n",
      "Requirement already satisfied: entrypoints>=0.2.2 in c:\\users\\jayle\\anaconda3\\lib\\site-packages (from nbconvert->notebook->open3d) (0.2.3)\n",
      "Requirement already satisfied: bleach in c:\\users\\jayle\\anaconda3\\lib\\site-packages (from nbconvert->notebook->open3d) (3.0.2)\n",
      "Requirement already satisfied: pandocfilters>=1.4.1 in c:\\users\\jayle\\anaconda3\\lib\\site-packages (from nbconvert->notebook->open3d) (1.4.2)\n",
      "Requirement already satisfied: testpath in c:\\users\\jayle\\anaconda3\\lib\\site-packages (from nbconvert->notebook->open3d) (0.4.2)\n",
      "Requirement already satisfied: defusedxml in c:\\users\\jayle\\anaconda3\\lib\\site-packages (from nbconvert->notebook->open3d) (0.5.0)\n",
      "Requirement already satisfied: MarkupSafe>=0.23 in c:\\users\\jayle\\anaconda3\\lib\\site-packages (from jinja2->notebook->open3d) (1.1.0)\n",
      "Requirement already satisfied: decorator in c:\\users\\jayle\\anaconda3\\lib\\site-packages (from traitlets>=4.2.1->notebook->open3d) (4.3.0)\n",
      "Requirement already satisfied: colorama; sys_platform == \"win32\" in c:\\users\\jayle\\anaconda3\\lib\\site-packages (from ipython>=4.0.0; python_version >= \"3.3\"->ipywidgets->open3d) (0.4.1)\n",
      "Requirement already satisfied: pickleshare in c:\\users\\jayle\\anaconda3\\lib\\site-packages (from ipython>=4.0.0; python_version >= \"3.3\"->ipywidgets->open3d) (0.7.5)\n",
      "Requirement already satisfied: prompt-toolkit<2.1.0,>=2.0.0 in c:\\users\\jayle\\anaconda3\\lib\\site-packages (from ipython>=4.0.0; python_version >= \"3.3\"->ipywidgets->open3d) (2.0.7)\n",
      "Requirement already satisfied: jedi>=0.10 in c:\\users\\jayle\\anaconda3\\lib\\site-packages (from ipython>=4.0.0; python_version >= \"3.3\"->ipywidgets->open3d) (0.13.2)\n",
      "Requirement already satisfied: backcall in c:\\users\\jayle\\anaconda3\\lib\\site-packages (from ipython>=4.0.0; python_version >= \"3.3\"->ipywidgets->open3d) (0.1.0)\n",
      "Requirement already satisfied: webencodings in c:\\users\\jayle\\anaconda3\\lib\\site-packages (from bleach->nbconvert->notebook->open3d) (0.5.1)\n",
      "Requirement already satisfied: wcwidth in c:\\users\\jayle\\anaconda3\\lib\\site-packages (from prompt-toolkit<2.1.0,>=2.0.0->ipython>=4.0.0; python_version >= \"3.3\"->ipywidgets->open3d) (0.1.7)\n",
      "Requirement already satisfied: parso>=0.3.0 in c:\\users\\jayle\\anaconda3\\lib\\site-packages (from jedi>=0.10->ipython>=4.0.0; python_version >= \"3.3\"->ipywidgets->open3d) (0.3.1)\n",
      "Installing collected packages: open3d\n",
      "Successfully installed open3d-0.12.0\n"
     ]
    }
   ],
   "source": [
    "import sys\n",
    "!{sys.executable} -m pip install numpy\n",
    "!{sys.executable} -m pip install open3d"
   ]
  },
  {
   "cell_type": "code",
   "execution_count": 8,
   "metadata": {},
   "outputs": [],
   "source": [
    "import numpy as np\n",
    "import open3d as o3d"
   ]
  },
  {
   "cell_type": "code",
   "execution_count": 13,
   "metadata": {},
   "outputs": [
    {
     "name": "stdout",
     "output_type": "stream",
     "text": [
      "loading...\n",
      "loaded\n"
     ]
    }
   ],
   "source": [
    "def lod_mesh_export(mesh, lods, extension, path):\n",
    "    mesh_lods={}\n",
    "    for i in lods:\n",
    "        mesh_lod = mesh.simplify_quadric_decimation(i)\n",
    "        o3d.io.write_triangle_mesh(path+\"lod_\"+str(i)+extension, mesh_lod)\n",
    "        mesh_lods[i]=mesh_lod\n",
    "    print(\"generation of \"+str(i)+\" LoD successful\")\n",
    "    return mesh_lods\n",
    "\n",
    "print(\"loading...\")\n",
    "input_path=\"\"\n",
    "output_path=\"\"\n",
    "dataname=\"fish_text_points_w_normals.txt\" #let's try no normals, since in program opencv prob just gonna give us coords.\n",
    "point_cloud= np.loadtxt(input_path+dataname,skiprows=1)\n",
    "\n",
    "print(\"loaded\")\n",
    "#print(point_cloud)"
   ]
  },
  {
   "cell_type": "code",
   "execution_count": 14,
   "metadata": {},
   "outputs": [
    {
     "name": "stdout",
     "output_type": "stream",
     "text": [
      "[Open3D WARNING] GLFW Error: WGL: Failed to make context current: The requested transformation operation is not supported. \n"
     ]
    }
   ],
   "source": [
    "pcd = o3d.geometry.PointCloud() #make point cloud object\n",
    "pcd.points = o3d.utility.Vector3dVector(point_cloud[:,:3])\n",
    "pcd.colors = o3d.utility.Vector3dVector(point_cloud[:,3:6]/255)\n",
    "pcd.normals = o3d.utility.Vector3dVector(point_cloud[:,6:9]) \n",
    "\n",
    "#o3d.utility.Vector3dVector(np.zeros( (1, 3)))  # invalidate existing normals\n",
    "\n",
    "#o3d.utility.Vector3dVector(point_cloud[:,6:9]) to use the file ones again\n",
    "# pcd.estimate_normals()\n",
    "# pcd.orient_normals_consistent_tangent_plane(100)\n",
    "o3d.visualization.draw_geometries([pcd], point_show_normal=True)"
   ]
  },
  {
   "cell_type": "code",
   "execution_count": 16,
   "metadata": {},
   "outputs": [
    {
     "name": "stdout",
     "output_type": "stream",
     "text": [
      "exporting...\n",
      "[Open3D WARNING] Write OBJ can not include triangle normals.\n",
      "done exporting\n"
     ]
    }
   ],
   "source": [
    "#Meshing \n",
    "\n",
    "#BPA\n",
    "distances = pcd.compute_nearest_neighbor_distance()\n",
    "avg_dist = np.mean(distances)\n",
    "radius = 3 * avg_dist\n",
    "bpa_mesh = o3d.geometry.TriangleMesh.create_from_point_cloud_ball_pivoting(pcd,o3d.utility.DoubleVector([radius, radius * 2]))\n",
    "dec_mesh = bpa_mesh.simplify_quadric_decimation(100000)\n",
    "dec_mesh.remove_degenerate_triangles()\n",
    "dec_mesh.remove_duplicated_triangles()\n",
    "dec_mesh.remove_duplicated_vertices()\n",
    "dec_mesh.remove_non_manifold_edges()\n",
    "\n",
    "#Poisson\n",
    "poisson_mesh = o3d.geometry.TriangleMesh.create_from_point_cloud_poisson(pcd, depth=8, width=0, scale=1.1, linear_fit=False)[0]\n",
    "bbox = pcd.get_axis_aligned_bounding_box()\n",
    "p_mesh_crop = poisson_mesh.crop(bbox)\n",
    "\n",
    "#Export\n",
    "print(\"exporting...\")\n",
    "\n",
    "o3d.io.write_triangle_mesh(output_path+\"bpa_mesh_fish_test.obj\", bpa_mesh)\n",
    "o3d.io.write_triangle_mesh(output_path+\"p_mesh_c_fish_test.obj\", poisson_mesh)\n",
    "print(\"done exporting\")"
   ]
  },
  {
   "cell_type": "code",
   "execution_count": null,
   "metadata": {},
   "outputs": [],
   "source": [
    "#LoD makes lower quality meshes with less traingles for you, and saves based on the desired output\n",
    "#You can change by adding to array i. e [10000, 1000, 100]\n",
    "my_lods = lod_mesh_export(bpa_mesh, [10000], \".obj\", output_path)\n",
    "\n",
    "print(\"done with my lods\")"
   ]
  }
 ],
 "metadata": {
  "kernelspec": {
   "display_name": "Python 3",
   "language": "python",
   "name": "python3"
  },
  "language_info": {
   "codemirror_mode": {
    "name": "ipython",
    "version": 3
   },
   "file_extension": ".py",
   "mimetype": "text/x-python",
   "name": "python",
   "nbconvert_exporter": "python",
   "pygments_lexer": "ipython3",
   "version": "3.7.1"
  }
 },
 "nbformat": 4,
 "nbformat_minor": 2
}
